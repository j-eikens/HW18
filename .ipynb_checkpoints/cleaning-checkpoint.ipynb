{
 "cells": [
  {
   "cell_type": "code",
   "execution_count": null,
   "id": "673b0419",
   "metadata": {},
   "outputs": [],
   "source": [
    "import pandas as pd\n",
    "import numpy as np\n",
    "from geopy import distance\n",
    "from functools import reduce"
   ]
  },
  {
   "cell_type": "code",
   "execution_count": null,
   "id": "b62d040a",
   "metadata": {},
   "outputs": [],
   "source": [
    "# # merge 12 months data\n",
    "# filepath10 = \"JC-202110-citibike-tripdata.csv\"\n",
    "# filepath11 = \"JC-202111-citibike-tripdata.csv\"\n",
    "# filepath12 = \"JC-202112-citibike-tripdata.csv\"\n",
    "# filepath01 = \"JC-202201-citibike-tripdata.csv\"\n",
    "# filepath02 = \"JC-202202-citibike-tripdata.csv\"\n",
    "# filepath03 = \"JC-202203-citibike-tripdata.csv\"\n",
    "# filepath04 = \"JC-202204-citibike-tripdata.csv\"\n",
    "# filepath05 = \"JC-202205-citibike-tripdata.csv\"\n",
    "# filepath06 = \"JC-202206-citibike-tripdata.csv\"\n",
    "# filepath07 = \"JC-202207-citbike-tripdata.csv\"\n",
    "# filepath08 = \"JC-202208-citibike-tripdata.csv\"\n",
    "# filepath09 = \"JC-202209-citibike-tripdata.csv\"\n",
    "\n",
    "# df10 = pd.read_csv(filepath10)\n",
    "# df11 = pd.read_csv(filepath11)\n",
    "# df12 = pd.read_csv(filepath12)\n",
    "# df01 = pd.read_csv(filepath01)\n",
    "# df02 = pd.read_csv(filepath02)\n",
    "# df03 = pd.read_csv(filepath03)\n",
    "# df04 = pd.read_csv(filepath04)\n",
    "# df05 = pd.read_csv(filepath05)\n",
    "# df06 = pd.read_csv(filepath06)\n",
    "# df07 = pd.read_csv(filepath07)\n",
    "# df08 = pd.read_csv(filepath08)\n",
    "# df09 = pd.read_csv(filepath09)\n",
    "\n",
    "# dfs = [df10, df11, df12, df01, df02, df03, df04, df05, df06, df07, df08, df09]\n",
    "\n",
    "# df = pd.concat(dfs, ignore_index=True)"
   ]
  },
  {
   "cell_type": "code",
   "execution_count": null,
   "id": "1bc34fd7",
   "metadata": {},
   "outputs": [],
   "source": [
    "# merge 6 months data\n",
    "filepath04 = \"JC-202204-citibike-tripdata.csv\"\n",
    "filepath05 = \"JC-202205-citibike-tripdata.csv\"\n",
    "filepath06 = \"JC-202206-citibike-tripdata.csv\"\n",
    "filepath07 = \"JC-202207-citbike-tripdata.csv\"\n",
    "filepath08 = \"JC-202208-citibike-tripdata.csv\"\n",
    "filepath09 = \"JC-202209-citibike-tripdata.csv\"\n",
    "\n",
    "df04 = pd.read_csv(filepath04)\n",
    "df05 = pd.read_csv(filepath05)\n",
    "df06 = pd.read_csv(filepath06)\n",
    "df07 = pd.read_csv(filepath07)\n",
    "df08 = pd.read_csv(filepath08)\n",
    "df09 = pd.read_csv(filepath09)\n",
    "\n",
    "dfs = [df10, df11, df12, df01, df02, df03, df04, df05, df06, df07, df08, df09]\n",
    "\n",
    "df = pd.concat(dfs, ignore_index=True)"
   ]
  },
  {
   "cell_type": "code",
   "execution_count": null,
   "id": "a8b34b04",
   "metadata": {},
   "outputs": [],
   "source": [
    "df.head()"
   ]
  },
  {
   "cell_type": "code",
   "execution_count": null,
   "id": "e74dc723",
   "metadata": {},
   "outputs": [],
   "source": [
    "count_nan = df['end_lat'].isnull().sum()\n",
    "count_nan"
   ]
  },
  {
   "cell_type": "code",
   "execution_count": null,
   "id": "0f0a3562",
   "metadata": {},
   "outputs": [],
   "source": [
    "# drop rows from df where end_lat is nan\n",
    "df = df[df['end_lat'].notna()]\n",
    "df.shape"
   ]
  },
  {
   "cell_type": "code",
   "execution_count": null,
   "id": "5a12e2f8",
   "metadata": {},
   "outputs": [],
   "source": [
    "# check that nan values are gone\n",
    "count_nan = df['end_lat'].isnull().sum()\n",
    "count_nan"
   ]
  },
  {
   "cell_type": "code",
   "execution_count": null,
   "id": "6b7ce795",
   "metadata": {},
   "outputs": [],
   "source": [
    "df.shape"
   ]
  },
  {
   "cell_type": "code",
   "execution_count": null,
   "id": "3987f0ed",
   "metadata": {},
   "outputs": [],
   "source": [
    "# Calculating ride duration\n",
    "\n",
    "df['ended_at'] = df['ended_at'].astype('datetime64[ns]')\n",
    "df['started_at'] = df['started_at'].astype('datetime64[ns]')\n",
    "df['ride_duration_timedelta'] = df['ended_at'] - df['started_at']\n",
    "\n",
    "ride_hrs = []\n",
    "\n",
    "for i in df['ride_duration_timedelta']:\n",
    "    hrs = i.total_seconds()/3600\n",
    "    ride_hrs.append(hrs)\n",
    "\n",
    "df['ride_duration_hrs'] = ride_hrs\n",
    "\n",
    "df.head()"
   ]
  },
  {
   "cell_type": "code",
   "execution_count": null,
   "id": "a5aee169",
   "metadata": {},
   "outputs": [],
   "source": [
    "df.describe()"
   ]
  },
  {
   "cell_type": "code",
   "execution_count": null,
   "id": "692f5b24",
   "metadata": {},
   "outputs": [],
   "source": [
    "distance_miles = []\n",
    "\n",
    "for i, row in df.iterrows():\n",
    "    \n",
    "    start = (df['start_lat'][i], df['start_lng'][i])\n",
    "    end = (df['end_lat'][i], df['end_lng'][i])\n",
    "    \n",
    "#     print(f'start {start}, end {end}')\n",
    "    try:    \n",
    "        dist = distance.distance(start, end).miles\n",
    "    except:\n",
    "        print(\"There was a problem\")\n",
    "    \n",
    "    distance_miles.append(dist)\n",
    "    \n",
    "distance_miles"
   ]
  },
  {
   "cell_type": "code",
   "execution_count": null,
   "id": "d0a98c36",
   "metadata": {},
   "outputs": [],
   "source": [
    "df['ride_distance_miles'] = distance_miles"
   ]
  },
  {
   "cell_type": "code",
   "execution_count": null,
   "id": "d1e7752c",
   "metadata": {},
   "outputs": [],
   "source": [
    "# save to csv 12 monts data\n",
    "df.to_csv('202110-202209_clean.csv')"
   ]
  },
  {
   "cell_type": "code",
   "execution_count": null,
   "id": "0b2398d5",
   "metadata": {},
   "outputs": [],
   "source": [
    "# save to csv 6 months data\n",
    "df.to_csv('202204-202209_clean.csv')"
   ]
  }
 ],
 "metadata": {
  "kernelspec": {
   "display_name": "Python 3 (ipykernel)",
   "language": "python",
   "name": "python3"
  },
  "language_info": {
   "codemirror_mode": {
    "name": "ipython",
    "version": 3
   },
   "file_extension": ".py",
   "mimetype": "text/x-python",
   "name": "python",
   "nbconvert_exporter": "python",
   "pygments_lexer": "ipython3",
   "version": "3.8.13"
  }
 },
 "nbformat": 4,
 "nbformat_minor": 5
}
